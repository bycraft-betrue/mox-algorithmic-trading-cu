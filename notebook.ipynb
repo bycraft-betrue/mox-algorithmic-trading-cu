{
 "cells": [
  {
   "cell_type": "markdown",
   "metadata": {},
   "source": [
    "This is how we play around with less API requests to the forked/fake networks\n",
    "A tinkering environment...\n"
   ]
  },
  {
   "cell_type": "code",
   "execution_count": 1,
   "metadata": {},
   "outputs": [],
   "source": [
    "from moccasin import setup_notebook\n",
    "\n",
    "setup_notebook()"
   ]
  },
  {
   "cell_type": "code",
   "execution_count": 6,
   "metadata": {},
   "outputs": [
    {
     "name": "stdout",
     "output_type": "stream",
     "text": [
      "eth-forked\n"
     ]
    }
   ],
   "source": [
    "from moccasin.config import get_active_network\n",
    "\n",
    "active_network = get_active_network()\n",
    "print(active_network.name)"
   ]
  },
  {
   "cell_type": "code",
   "execution_count": 7,
   "metadata": {},
   "outputs": [
    {
     "name": "stdout",
     "output_type": "stream",
     "text": [
      "Setting up script\n"
     ]
    }
   ],
   "source": [
    "# some network checks\n",
    "# if we are running this on a test/forked network, let's give us some fake money\n",
    "\n",
    "from boa.contracts.abi.abi_contract import ABIContract\n",
    "from typing import Tuple\n",
    "from moccasin.config import get_active_network, Network\n",
    "import boa\n",
    "\n",
    "STARTING_ETH_BALANCE = int(1000e18)\n",
    "STARTING_USDC_BALANCE = int(100e6)\n",
    "STARTING_WETH_BALANCE = int(1e18)\n",
    "\n",
    "\n",
    "def _add_eth_balance():\n",
    "    boa.env.set_balance(boa.env.eoa, STARTING_ETH_BALANCE)\n",
    "\n",
    "\n",
    "def _add_token_balance(usdc: ABIContract, weth: ABIContract, active_network: Network):\n",
    "    our_address = boa.env.eoa\n",
    "    # we can use usdc contract as a proxy and pretend to be the owner\n",
    "    with boa.env.prank(usdc.owner()):\n",
    "        usdc.updateMasterMinter(our_address)\n",
    "    usdc.configureMinter(our_address, STARTING_USDC_BALANCE)\n",
    "    usdc.mint(our_address, STARTING_USDC_BALANCE)\n",
    "    # because we now have the abi, we can use it to mint WETH\n",
    "    weth.deposit(value=STARTING_WETH_BALANCE)\n",
    "\n",
    "\n",
    "# these ABIContracts classes are to help us call contracts on blockchain when we don't know exactly the source code\n",
    "def setup_script() -> Tuple[ABIContract, ABIContract, ABIContract, ABIContract]:\n",
    "    print(\"Setting up script\")\n",
    "\n",
    "    # 1. give ourselves some ETH\n",
    "    # 2. give ourselves some USDC and WETH\n",
    "\n",
    "    active_network = get_active_network()\n",
    "\n",
    "    usdc = active_network.manifest_named(\"usdc\")\n",
    "    weth = active_network.manifest_named(\"weth\")\n",
    "\n",
    "    if active_network.is_local_or_forked_network():\n",
    "        _add_eth_balance()\n",
    "        _add_token_balance(usdc, weth, active_network)\n",
    "\n",
    "\n",
    "def moccasin_main():\n",
    "    setup_script()\n",
    "\n",
    "\n",
    "moccasin_main()"
   ]
  },
  {
   "cell_type": "code",
   "execution_count": 8,
   "metadata": {},
   "outputs": [],
   "source": [
    "usdc = active_network.manifest_named(\"usdc\")\n",
    "weth = active_network.manifest_named(\"weth\")"
   ]
  },
  {
   "cell_type": "code",
   "execution_count": 10,
   "metadata": {},
   "outputs": [
    {
     "data": {
      "text/plain": [
       "2000000000000000000"
      ]
     },
     "execution_count": 10,
     "metadata": {},
     "output_type": "execute_result"
    }
   ],
   "source": [
    "usdc.balanceOf(boa.env.eoa)\n",
    "weth.balanceOf(boa.env.eoa)"
   ]
  },
  {
   "cell_type": "code",
   "execution_count": null,
   "metadata": {},
   "outputs": [
    {
     "name": "stdout",
     "output_type": "stream",
     "text": [
      "0x87870Bca3F3fD6335C3F4ce8392D69350B4fA4E2\n"
     ]
    }
   ],
   "source": [
    "from moccasin.config import get_config\n",
    "\n",
    "# this bit because we added new abis , need to reload and refresh the config\n",
    "config = get_config()\n",
    "config.reload()\n",
    "active_network = config.get_active_network()\n",
    "aavev3_pool_address_provider = active_network.manifest_named(\n",
    "    \"aavev3_pool_address_provider\"\n",
    ")\n",
    "# aave v3 address provider provides the pool address\n",
    "# it's some master address that keeps the changing pool address\n",
    "pool_address = aavev3_pool_address_provider.getPool()\n",
    "# print(pool_address) # this is the address we send money to\n",
    "# now we need to get abis from this"
   ]
  },
  {
   "cell_type": "code",
   "execution_count": 18,
   "metadata": {},
   "outputs": [
    {
     "data": {
      "text/plain": [
       "<pool interface at 0x87870Bca3F3fD6335C3F4ce8392D69350B4fA4E2>"
      ]
     },
     "execution_count": 18,
     "metadata": {},
     "output_type": "execute_result"
    }
   ],
   "source": [
    "from moccasin.config import get_config\n",
    "\n",
    "# this bit because we added new abis , need to reload and refresh the config\n",
    "config = get_config()\n",
    "config.reload()\n",
    "active_network = config.get_active_network()\n",
    "pool_contract = active_network.manifest_named(\"pool\", address=pool_address)\n",
    "pool_contract"
   ]
  },
  {
   "cell_type": "code",
   "execution_count": 19,
   "metadata": {},
   "outputs": [
    {
     "name": "stdout",
     "output_type": "stream",
     "text": [
      "Depositing 300000000 ABI usdc.symbol() -> ['string'] to 0x87870Bca3F3fD6335C3F4ce8392D69350B4fA4E2\n",
      "Depositing 2000000000000000000 ABI weth.symbol() -> ['string'] to 0x87870Bca3F3fD6335C3F4ce8392D69350B4fA4E2\n",
      "User account data:\n",
      "        totalCollateralBase: 719644781340\n",
      "        totalDebtBase: 0\n",
      "        availableBorrowsBase: 577658865982\n",
      "        currentLiquidationThreshold: 8279\n",
      "        ltv: 8027\n",
      "        healthFactor: 115792089237316195423570985008687907853269984665640564039457584007913129639935\n",
      "          \n"
     ]
    }
   ],
   "source": [
    "REFERRAL_CODE = 0\n",
    "\n",
    "\n",
    "def deposit(pool_contract, token, amount):\n",
    "    allowed_amount = token.allowance(boa.env.eoa, pool_contract.address)\n",
    "    if allowed_amount < amount:\n",
    "        token.approve(pool_contract.address, amount)\n",
    "    print(f\"Depositing {amount} {token.symbol} to {pool_contract.address}\")\n",
    "    pool_contract.supply(\n",
    "        token.address, amount, boa.env.eoa, REFERRAL_CODE\n",
    "    )  # see the supply documentation for more details\n",
    "\n",
    "\n",
    "usdc_balance = usdc.balanceOf(boa.env.eoa)\n",
    "weth_balance = weth.balanceOf(boa.env.eoa)\n",
    "\n",
    "if usdc_balance > 0:\n",
    "    deposit(pool_contract, usdc, usdc_balance)\n",
    "\n",
    "if weth_balance > 0:\n",
    "    deposit(pool_contract, weth, weth_balance)\n",
    "\n",
    "    # check aave doc for more details on the getUSerAccountData function\n",
    "    # collateral will be the amount we deposit even if we are not borrowing\n",
    "    (\n",
    "        totalCollateralBase,\n",
    "        totalDebtBase,\n",
    "        availableBorrowsBase,\n",
    "        currentLiquidationThreshold,\n",
    "        ltv,\n",
    "        healthFactor,\n",
    "    ) = pool_contract.getUserAccountData(boa.env.eoa)\n",
    "    print(f\"\"\"User account data:\n",
    "        totalCollateralBase: {totalCollateralBase}\n",
    "        totalDebtBase: {totalDebtBase}\n",
    "        availableBorrowsBase: {availableBorrowsBase}\n",
    "        currentLiquidationThreshold: {currentLiquidationThreshold}\n",
    "        ltv: {ltv}\n",
    "        healthFactor: {healthFactor}\n",
    "          \"\"\")"
   ]
  },
  {
   "cell_type": "code",
   "execution_count": 21,
   "metadata": {},
   "outputs": [
    {
     "name": "stdout",
     "output_type": "stream",
     "text": [
      "[('aEthWETH', Address('0x4d5F47FA6A74757f35C14fD3a6Ef8E3C9BC514E8')), ('aEthwstETH', Address('0x0B925eD163218f6662a35e0f0371Ac234f9E9371')), ('aEthWBTC', Address('0x5Ee5bf7ae06D1Be5997A1A72006FE6C607eC6DE8')), ('aEthUSDC', Address('0x98C23E9d8f34FEFb1B7BD6a91B7FF122F4e16F5c')), ('aEthDAI', Address('0x018008bfb33d285247A21d44E50697654f754e63')), ('aEthLINK', Address('0x5E8C8A7243651DB1384C0dDfDbE39761E8e7E51a')), ('aEthAAVE', Address('0xA700b4eB416Be35b2911fd5Dee80678ff64fF6C9')), ('aEthcbETH', Address('0x977b6fc5dE62598B08C85AC8Cf2b745874E8b78c')), ('aEthUSDT', Address('0x23878914EFE38d27C4D67Ab83ed1b93A74D4086a')), ('aEthrETH', Address('0xCc9EE9483f662091a1de4795249E24aC0aC2630f')), ('aEthLUSD', Address('0x3Fe6a295459FAe07DF8A0ceCC36F37160FE86AA9')), ('aEthCRV', Address('0x7B95Ec873268a6BFC6427e7a28e396Db9D0ebc65')), ('aEthMKR', Address('0x8A458A9dc9048e005d22849F470891b840296619')), ('aEthSNX', Address('0xC7B4c17861357B8ABB91F25581E7263E08DCB59c')), ('aEthBAL', Address('0x2516E7B3F76294e03C42AA4c5b5b4DCE9C436fB8')), ('aEthUNI', Address('0xF6D2224916DDFbbab6e6bd0D1B7034f4Ae0CaB18')), ('aEthLDO', Address('0x9A44fd41566876A39655f74971a3A6eA0a17a454')), ('aEthENS', Address('0x545bD6c032eFdde65A377A6719DEF2796C8E0f2e')), ('aEth1INCH', Address('0x71Aef7b30728b9BB371578f36c5A1f1502a5723e')), ('aEthFRAX', Address('0xd4e245848d6E1220DBE62e155d89fa327E43CB06')), ('aEthGHO', Address('0x00907f9921424583e7ffBfEdf84F92B7B2Be4977')), ('aEthRPL', Address('0xB76CF92076adBF1D9C39294FA8e7A67579FDe357')), ('aEthsDAI', Address('0x4C612E3B15b96Ff9A6faED838F8d07d479a8dD4c')), ('aEthSTG', Address('0x1bA9843bD4327c6c77011406dE5fA8749F7E3479')), ('aEthKNC', Address('0x5b502e3796385E1e9755d7043B9C945C3aCCeC9C')), ('aEthFXS', Address('0x82F9c5ad306BBa1AD0De49bB5FA6F01bf61085ef')), ('aEthcrvUSD', Address('0xb82fa9f31612989525992FCfBB09AB22Eff5c85A')), ('aEthPYUSD', Address('0x0C0d01AbF3e6aDfcA0989eBbA9d6e85dD58EaB1E')), ('aEthweETH', Address('0xBdfa7b7893081B35Fb54027489e2Bc7A38275129')), ('aEthosETH', Address('0x927709711794F3De5DdBF1D176bEE2D55Ba13c21')), ('aEthUSDe', Address('0x4F5923Fc5FD4a93352581b38B7cD26943012DECF')), ('aEthETHx', Address('0x1c0E06a0b1A4c160c17545FF2A951bfcA57C0002')), ('aEthsUSDe', Address('0x4579a27aF00A62C0EB156349f31B345c08386419')), ('aEthtBTC', Address('0x10Ac93971cdb1F5c778144084242374473c350Da')), ('aEthcbBTC', Address('0x5c647cE0Ae10658ec44FA4E11A51c96e94efd1Dd')), ('aEthUSDS', Address('0x32a6268f9Ba3642Dda7892aDd74f1D34469A4259')), ('aEthrsETH', Address('0x2D62109243b87C4bA3EE7bA1D91B0dD0A074d7b1'))]\n"
     ]
    }
   ],
   "source": [
    "# refresh\n",
    "config.reload()\n",
    "active_network = config.get_active_network()\n",
    "aave_protocol_data_provider = active_network.manifest_named(\n",
    "    \"aave_protocol_data_provider\"\n",
    ")\n",
    "a_tokens = aave_protocol_data_provider.getAllATokens()\n",
    "print(a_tokens)"
   ]
  },
  {
   "cell_type": "code",
   "execution_count": 24,
   "metadata": {},
   "outputs": [
    {
     "name": "stdout",
     "output_type": "stream",
     "text": [
      "<usdc interface at 0x98C23E9d8f34FEFb1B7BD6a91B7FF122F4e16F5c>\n",
      "<weth interface at 0x4d5F47FA6A74757f35C14fD3a6Ef8E3C9BC514E8>\n"
     ]
    }
   ],
   "source": [
    "for a_token in a_tokens:\n",
    "    if \"WETH\" in a_token[0]:\n",
    "        a_weth = active_network.manifest_named(\"weth\", address=a_token[1])\n",
    "    if \"USDC\" in a_token[0]:\n",
    "        a_usdc = active_network.manifest_named(\"usdc\", address=a_token[1])\n",
    "\n",
    "print(a_usdc)\n",
    "print(a_weth)"
   ]
  },
  {
   "cell_type": "code",
   "execution_count": 27,
   "metadata": {},
   "outputs": [
    {
     "name": "stdout",
     "output_type": "stream",
     "text": [
      "Normalized USDC balance: 300.0\n",
      "Normalized WETH balance: 2.0\n"
     ]
    }
   ],
   "source": [
    "# Get how much they are worth to figure out what our portfolio makeup is\n",
    "a_usdc_balance = a_usdc.balanceOf(boa.env.eoa)  # 6 decimals\n",
    "a_weth_balance = a_weth.balanceOf(boa.env.eoa)  # 18 decimals\n",
    "\n",
    "a_usdc_balance_normalized = a_usdc_balance / 1e6\n",
    "a_weth_balance_normalized = a_weth_balance / 1e18\n",
    "print(f\"Normalized USDC balance: {a_usdc_balance_normalized}\")\n",
    "print(f\"Normalized WETH balance: {a_weth_balance_normalized}\")"
   ]
  },
  {
   "cell_type": "code",
   "execution_count": 31,
   "metadata": {},
   "outputs": [
    {
     "name": "stdout",
     "output_type": "stream",
     "text": [
      "USDC price: 0.99995232\n",
      "WETH price: 3448.2310587\n"
     ]
    }
   ],
   "source": [
    "config.reload()\n",
    "\n",
    "\n",
    "def get_price(feed_name: str) -> float:\n",
    "    active_network = get_active_network()\n",
    "    price_feed = active_network.manifest_named(feed_name)\n",
    "    price = price_feed.latestAnswer()\n",
    "    decimals = price_feed.decimals()\n",
    "    return price / (10**decimals)\n",
    "\n",
    "\n",
    "usdc_price = get_price(\"usdc_usd\")\n",
    "weth_price = get_price(\"eth_usd\")\n",
    "print(f\"USDC price: {usdc_price}\")\n",
    "print(f\"WETH price: {weth_price}\")"
   ]
  },
  {
   "cell_type": "code",
   "execution_count": 33,
   "metadata": {},
   "outputs": [
    {
     "name": "stdout",
     "output_type": "stream",
     "text": [
      "True\n",
      "USDC allocation ratio: 4.168524580160475%\n",
      "WETH allocation ratio: 95.83147541983953%\n"
     ]
    }
   ],
   "source": [
    "usdc_value = a_usdc_balance_normalized * usdc_price\n",
    "weth_value = a_weth_balance_normalized * weth_price\n",
    "total_value = usdc_value + weth_value\n",
    "\n",
    "target_usdc_ratio = 0.3\n",
    "target_weth_ratio = 0.7\n",
    "\n",
    "\n",
    "usdc_allocation_ratio = usdc_value / total_value\n",
    "weth_allocation_ratio = weth_value / total_value\n",
    "\n",
    "BUFFER = 0.1\n",
    "\n",
    "needs_rebalancing = (abs(usdc_allocation_ratio - target_usdc_ratio) > BUFFER) or (\n",
    "    abs(weth_allocation_ratio - target_weth_ratio) > BUFFER\n",
    ")\n",
    "print(needs_rebalancing)\n",
    "print(f\"USDC allocation ratio: {usdc_allocation_ratio*100}%\")\n",
    "print(f\"WETH allocation ratio: {weth_allocation_ratio*100}%\")"
   ]
  },
  {
   "cell_type": "code",
   "execution_count": 35,
   "metadata": {},
   "outputs": [
    {
     "name": "stdout",
     "output_type": "stream",
     "text": [
      "USDC balance: 0\n",
      "WETH balance: 2000000000000000000\n",
      "aUSDC balance: 300000000\n",
      "aWETH balance: 0\n"
     ]
    }
   ],
   "source": [
    "# we only need to sell eth and buy usdc, and we only need to sell prat of it not all\n",
    "# but to make it easier we withdraw all weth\n",
    "a_weth.approve(pool_contract.address, a_weth.balanceOf(boa.env.eoa))\n",
    "# we need to give aweth to recevie eth, so we need to approve the pool contract to spend our aWETH\n",
    "pool_contract.withdraw(weth.address, a_weth.balanceOf(boa.env.eoa), boa.env.eoa)\n",
    "\n",
    "\n",
    "def print_token_balances():\n",
    "    print(f\"USDC balance: {usdc.balanceOf(boa.env.eoa)}\")\n",
    "    print(f\"WETH balance: {weth.balanceOf(boa.env.eoa)}\")\n",
    "    print(f\"aUSDC balance: {a_usdc.balanceOf(boa.env.eoa)}\")\n",
    "    print(f\"aWETH balance: {a_weth.balanceOf(boa.env.eoa)}\")\n",
    "\n",
    "\n",
    "print_token_balances()"
   ]
  },
  {
   "cell_type": "code",
   "execution_count": 44,
   "metadata": {},
   "outputs": [
    {
     "name": "stdout",
     "output_type": "stream",
     "text": [
      "{'usdc': {'contract': <usdc interface at 0x98C23E9d8f34FEFb1B7BD6a91B7FF122F4e16F5c>, 'trade': 1859.0372869178402}, 'weth': {'contract': <weth interface at 0x4d5F47FA6A74757f35C14fD3a6Ef8E3C9BC514E8>, 'trade': -0.539102112467148}}\n",
      "-0.539102112467148\n"
     ]
    }
   ],
   "source": [
    "# this chunk calculates how much to sell/buy\n",
    "usdc_data = {\n",
    "    \"balance\": a_usdc_balance_normalized,\n",
    "    \"price\": usdc_price,\n",
    "    \"contract\": a_usdc,\n",
    "}\n",
    "weth_data = {\n",
    "    \"balance\": a_weth_balance_normalized,\n",
    "    \"price\": weth_price,\n",
    "    \"contract\": a_weth,\n",
    "}\n",
    "target_allocations = {\"usdc\": 0.3, \"weth\": 0.7}\n",
    "\n",
    "\n",
    "def calculate_rebalancing_trades(\n",
    "    usdc_data: dict,  # {\"balance\": float, \"price\": float, \"contract\": Contract}\n",
    "    weth_data: dict,  # {\"balance\": float, \"price\": float, \"contract\": Contract}\n",
    "    target_allocations: dict[str, float],  # {\"usdc\": 0.3, \"weth\": 0.7}\n",
    ") -> dict[str, dict]:\n",
    "    \"\"\"\n",
    "    Calculate the trades needed to rebalance a portfolio of USDC and WETH.\n",
    "\n",
    "    Args:\n",
    "        usdc_data: Dict containing USDC balance, price and contract\n",
    "        weth_data: Dict containing WETH balance, price and contract\n",
    "        target_allocations: Dict of token symbol to target allocation (must sum to 1)\n",
    "\n",
    "    Returns:\n",
    "        Dict of token symbol to dict containing contract and trade amount:\n",
    "            {\"usdc\": {\"contract\": Contract, \"trade\": int},\n",
    "             \"weth\": {\"contract\": Contract, \"trade\": int}}\n",
    "    \"\"\"\n",
    "    # Calculate current values\n",
    "    usdc_value = usdc_data[\"balance\"] * usdc_data[\"price\"]\n",
    "    weth_value = weth_data[\"balance\"] * weth_data[\"price\"]\n",
    "    total_value = usdc_value + weth_value\n",
    "\n",
    "    # Calculate target values\n",
    "    target_usdc_value = total_value * target_allocations[\"usdc\"]\n",
    "    target_weth_value = total_value * target_allocations[\"weth\"]\n",
    "\n",
    "    # Calculate trades needed in USD\n",
    "    usdc_trade_usd = target_usdc_value - usdc_value\n",
    "    weth_trade_usd = target_weth_value - weth_value\n",
    "\n",
    "    # Convert to token amounts\n",
    "    return {\n",
    "        \"usdc\": {\n",
    "            \"contract\": usdc_data[\"contract\"],\n",
    "            \"trade\": usdc_trade_usd / usdc_data[\"price\"],\n",
    "        },\n",
    "        \"weth\": {\n",
    "            \"contract\": weth_data[\"contract\"],\n",
    "            \"trade\": weth_trade_usd / weth_data[\"price\"],\n",
    "        },\n",
    "    }\n",
    "\n",
    "\n",
    "trades = calculate_rebalancing_trades(usdc_data, weth_data, target_allocations)\n",
    "print(trades)\n",
    "\n",
    "weth_to_sell = trades[\"weth\"][\"trade\"]\n",
    "print(weth_to_sell)"
   ]
  },
  {
   "cell_type": "code",
   "execution_count": 49,
   "metadata": {},
   "outputs": [
    {
     "name": "stdout",
     "output_type": "stream",
     "text": [
      "539102112467148032\n",
      "USDC balance: 1856558156\n",
      "WETH balance: 1460897887532851968\n",
      "aUSDC balance: 300000000\n",
      "aWETH balance: 0\n"
     ]
    }
   ],
   "source": [
    "# interact with Uniswap, we will here use V3\n",
    "# checkout implement a swap part of the docs\n",
    "\n",
    "# struct ExactInputSingleParams {\n",
    "#     address tokenIn;\n",
    "#     address tokenOut;\n",
    "#     uint24 fee;\n",
    "#     address recipient;\n",
    "#     uint256 deadline;\n",
    "#     uint256 amountIn;\n",
    "#     uint256 amountOutMinimum;\n",
    "#     uint160 sqrtPriceLimitX96;\n",
    "# }\n",
    "\n",
    "config.reload()\n",
    "active_network = config.get_active_network()\n",
    "uniswap_swap_router = active_network.manifest_named(\"uniswap_swap_router\")\n",
    "\n",
    "amount_weth = abs(int(weth_to_sell * (10**18)))\n",
    "print(amount_weth)\n",
    "\n",
    "weth.approve(uniswap_swap_router.address, amount_weth)\n",
    "\n",
    "# this helps prevent against MEV\n",
    "min_out = int((trades[\"usdc\"][\"trade\"] * (10**6)) * 0.9)\n",
    "\n",
    "uniswap_swap_router.exactInputSingle(\n",
    "    (\n",
    "        weth.address,  # \"tokenIn\"\n",
    "        usdc.address,  # \"tokenOut\"\n",
    "        3000,  # \"fee\": 0.3% fee hardcoded\n",
    "        boa.env.eoa,  # \"recipient\"\n",
    "        amount_weth,  # \"amountIn\"\n",
    "        min_out,  # \"amountOutMinimum\"\n",
    "        0,  # \"sqrtPriceLimitX96\"\n",
    "    )\n",
    ")\n",
    "\n",
    "print_token_balances()\n"
   ]
  },
  {
   "cell_type": "code",
   "execution_count": 50,
   "metadata": {},
   "outputs": [
    {
     "name": "stdout",
     "output_type": "stream",
     "text": [
      "Depositing 1856558156 ABI usdc.symbol() -> ['string'] to 0x87870Bca3F3fD6335C3F4ce8392D69350B4fA4E2\n",
      "USDC balance: 0\n",
      "WETH balance: 1460897887532851968\n",
      "aUSDC balance: 2156558156\n",
      "aWETH balance: 0\n"
     ]
    }
   ],
   "source": [
    "# redeposit back to aave\n",
    "\n",
    "amount = usdc.balanceOf(boa.env.eoa)\n",
    "deposit(pool_contract, usdc, amount)\n",
    "\n",
    "print_token_balances()"
   ]
  },
  {
   "cell_type": "code",
   "execution_count": 51,
   "metadata": {},
   "outputs": [
    {
     "name": "stdout",
     "output_type": "stream",
     "text": [
      "Depositing 1460897887532851968 ABI weth.symbol() -> ['string'] to 0x87870Bca3F3fD6335C3F4ce8392D69350B4fA4E2\n"
     ]
    }
   ],
   "source": [
    "deposit(pool_contract, weth, weth.balanceOf(boa.env.eoa))"
   ]
  },
  {
   "cell_type": "code",
   "execution_count": null,
   "metadata": {},
   "outputs": [],
   "source": []
  }
 ],
 "metadata": {
  "kernelspec": {
   "display_name": ".venv",
   "language": "python",
   "name": "python3"
  },
  "language_info": {
   "codemirror_mode": {
    "name": "ipython",
    "version": 3
   },
   "file_extension": ".py",
   "mimetype": "text/x-python",
   "name": "python",
   "nbconvert_exporter": "python",
   "pygments_lexer": "ipython3",
   "version": "3.12.8"
  }
 },
 "nbformat": 4,
 "nbformat_minor": 2
}
